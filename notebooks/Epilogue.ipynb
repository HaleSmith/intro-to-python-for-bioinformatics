{
 "cells": [
  {
   "cell_type": "markdown",
   "metadata": {
    "slideshow": {
     "slide_type": "slide"
    }
   },
   "source": [
    "# Useful resources\n",
    "\n",
    "The notebooks for this course are available at: https://github.com/MonashBioinformaticsPlatform/intro-to-python-for-bioinformatics/tree/bioinfosummer2017\n",
    "\n",
    "The official Python docs are quite good: https://docs.python.org/3/tutorial/\n",
    "\n",
    "The Data Carpentry and Software Carpentry courses: http://www.datacarpentry.org/python-ecology-lesson/ and https://swcarpentry.github.io/python-novice-inflammation/\n",
    "\n",
    "An in-depth from beginner to more advanced concepts: http://www.python-course.eu/python3_course.php\n",
    "\n",
    "So many *'Data Science'* MOOCs. So, so many.\n",
    "\n",
    "Check out `numpy` (fast arrays rather than simple Python lists) and `Pandas` (DataFrames for stats, similar to `R`)."
   ]
  },
  {
   "cell_type": "markdown",
   "metadata": {
    "slideshow": {
     "slide_type": "slide"
    }
   },
   "source": [
    "## Alternative ways to run Jupyter notebooks\n",
    "\n",
    "#### Install it locally\n",
    "\n",
    "http://jupyter.org/install.html\n",
    "\n",
    "```sh\n",
    "python3 -m venv ~/jupyter_venv\n",
    "source ~/jupyter_venv/bin/activate\n",
    "python3 -m pip install --upgrade pip\n",
    "python3 -m pip install jupyter\n",
    "jupyter notebook\n",
    "```\n",
    "\n",
    "#### Various free hosted notebook services\n",
    "\n",
    "https://notebooks.azure.com\n",
    "\n",
    "https://colab.research.google.com/notebook\n",
    "\n",
    "https://try.jupyter.org/\n",
    "\n",
    "https://cocalc.com/\n",
    "\n"
   ]
  },
  {
   "cell_type": "code",
   "execution_count": 1,
   "metadata": {
    "slideshow": {
     "slide_type": "slide"
    }
   },
   "outputs": [
    {
     "name": "stdout",
     "output_type": "stream",
     "text": [
      "The Zen of Python, by Tim Peters\n",
      "\n",
      "Beautiful is better than ugly.\n",
      "Explicit is better than implicit.\n",
      "Simple is better than complex.\n",
      "Complex is better than complicated.\n",
      "Flat is better than nested.\n",
      "Sparse is better than dense.\n",
      "Readability counts.\n",
      "Special cases aren't special enough to break the rules.\n",
      "Although practicality beats purity.\n",
      "Errors should never pass silently.\n",
      "Unless explicitly silenced.\n",
      "In the face of ambiguity, refuse the temptation to guess.\n",
      "There should be one-- and preferably only one --obvious way to do it.\n",
      "Although that way may not be obvious at first unless you're Dutch.\n",
      "Now is better than never.\n",
      "Although never is often better than *right* now.\n",
      "If the implementation is hard to explain, it's a bad idea.\n",
      "If the implementation is easy to explain, it may be a good idea.\n",
      "Namespaces are one honking great idea -- let's do more of those!\n"
     ]
    }
   ],
   "source": [
    "import this"
   ]
  },
  {
   "cell_type": "code",
   "execution_count": null,
   "metadata": {},
   "outputs": [],
   "source": []
  }
 ],
 "metadata": {
  "celltoolbar": "Slideshow",
  "kernelspec": {
   "display_name": "Python 3",
   "language": "python",
   "name": "python3"
  },
  "language_info": {
   "codemirror_mode": {
    "name": "ipython",
    "version": 3
   },
   "file_extension": ".py",
   "mimetype": "text/x-python",
   "name": "python",
   "nbconvert_exporter": "python",
   "pygments_lexer": "ipython3",
   "version": "3.6.3"
  }
 },
 "nbformat": 4,
 "nbformat_minor": 2
}
