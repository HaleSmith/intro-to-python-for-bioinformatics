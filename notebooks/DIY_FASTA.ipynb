{
 "cells": [
  {
   "cell_type": "markdown",
   "metadata": {},
   "source": [
    "## DIY FASTA parser\n",
    "\n",
    "Now we'd like to do some simple sequence analysis on our BLAST hits.\n",
    "\n",
    "A simple FASTA parser can be written in ~10 lines of Python (probably less).\n",
    "\n",
    "\n",
    "Biological sequences are often stored in FASTA format.\n",
    "It looks like this:\n",
    "```python\n",
    ">sp|P0C8E7|EVA1_RHISA Evasin-1 OS=Rhipicephalus sanguineus PE=1 SV=1\n",
    "MTFKACIAIITALCAMQVICEDDEDYGDLGGCPFLVAENKTGYPTIVACKQDCNGTTETA\n",
    "PNGTRCFSIGDEGLRRMTANLPYDCPLGQCSNGDCIPKETYEVCYRRNWRDKKN\n",
    ">sp|P0C8E9|EVA4_RHISA Evasin-4 OS=Rhipicephalus sanguineus PE=1 SV=1\n",
    "MAFKYWFVFAAVLYARQWLSTKCEVPQMTSSSAPDLEEEDDYTAYAPLTCYFTNSTLGLL\n",
    "APPNCSVLCNSTTTWFNETSPNNASCLLTVDFLTQDAILQENQPYNCSVGHCDNGTCAGP\n",
    "PRHAQCW\n",
    "```\n",
    "\n",
    "Each sequence is preceded by a single line 'header', beginning with a `>`.\n",
    "Headers can contain anything, but usually contain identifiers and free-text.\n",
    "Sequences can be split across multiple lines."
   ]
  },
  {
   "cell_type": "code",
   "execution_count": 1,
   "metadata": {},
   "outputs": [
    {
     "name": "stdout",
     "output_type": "stream",
     "text": [
      ">sp|P0C8E7|EVA1_RHISA Evasin-1 OS=Rhipicephalus sanguineus PE=1 SV=1\n",
      "\n",
      "MTFKACIAIITALCAMQVICEDDEDYGDLGGCPFLVAENKTGYPTIVACKQDCNGTTETA\n",
      "\n",
      "PNGTRCFSIGDEGLRRMTANLPYDCPLGQCSNGDCIPKETYEVCYRRNWRDKKN\n",
      "\n",
      ">sp|P0C8E9|EVA4_RHISA Evasin-4 OS=Rhipicephalus sanguineus PE=1 SV=1\n",
      "\n",
      "MAFKYWFVFAAVLYARQWLSTKCEVPQMTSSSAPDLEEEDDYTAYAPLTCYFTNSTLGLL\n",
      "\n",
      "APPNCSVLCNSTTTWFNETSPNNASCLLTVDFLTQDAILQENQPYNCSVGHCDNGTCAGP\n",
      "\n",
      "PRHAQCW\n",
      "\n"
     ]
    }
   ],
   "source": [
    "# Start simple - just print the lines in the file\n",
    "# The evasins_5.fasta file contains just 5 evasin sequences, to make the Juypter output shorter\n",
    "with open('evasins_canonical.fasta', 'r') as handle:\n",
    "    for line in handle:\n",
    "        print(line)"
   ]
  },
  {
   "cell_type": "markdown",
   "metadata": {
    "tags": [
     "challenge"
    ]
   },
   "source": [
    "## Challenge\n",
    "\n",
    "Write some code to print just the text in the header lines.\n",
    "\n",
    "eg\n",
    "\n",
    "```\n",
    "sp|P0C8E7|EVA1_RHISA Evasin-1 OS=Rhipicephalus sanguineus PE=1 SV=1\n",
    "\n",
    ".. etc ..\n",
    "```"
   ]
  },
  {
   "cell_type": "markdown",
   "metadata": {},
   "source": [
    "## Solution"
   ]
  },
  {
   "cell_type": "code",
   "execution_count": 2,
   "metadata": {},
   "outputs": [
    {
     "name": "stdout",
     "output_type": "stream",
     "text": [
      "sp|P0C8E7|EVA1_RHISA Evasin-1 OS=Rhipicephalus sanguineus PE=1 SV=1\n",
      "\n",
      "sp|P0C8E9|EVA4_RHISA Evasin-4 OS=Rhipicephalus sanguineus PE=1 SV=1\n",
      "\n"
     ]
    }
   ],
   "source": [
    "with open('evasins_canonical.fasta', 'r') as handle:\n",
    "    for line in handle:\n",
    "        if line.startswith('>'):\n",
    "            print(line[1:])"
   ]
  },
  {
   "cell_type": "code",
   "execution_count": 4,
   "metadata": {
    "scrolled": false
   },
   "outputs": [
    {
     "name": "stdout",
     "output_type": "stream",
     "text": [
      "sp|P0C8E9|EVA4_RHISA Evasin-4 OS=Rhipicephalus sanguineus PE=1 SV=1\n",
      "MTFKACIAIITALCAMQVICEDDEDYGDLGGCPFLVAENKTGYPTIVACKQDCNGTTETAPNGTRCFSIGDEGLRRMTANLPYDCPLGQCSNGDCIPKETYEVCYRRNWRDKKNMAFKYWFVFAAVLYARQWLSTKCEVPQMTSSSAPDLEEEDDYTAYAPLTCYFTNSTLGLLAPPNCSVLCNSTTTWFNETSPNNASCLLTVDFLTQDAILQENQPYNCSVGHCDNGTCAGPPRHAQCW\n",
      "\n",
      "sp|P0C8E7|EVA1_RHISA Evasin-1 OS=Rhipicephalus sanguineus PE=1 SV=1\n",
      "MTFKACIAIITALCAMQVICEDDEDYGDLGGCPFLVAENKTGYPTIVACKQDCNGTTETAPNGTRCFSIGDEGLRRMTANLPYDCPLGQCSNGDCIPKETYEVCYRRNWRDKKN\n",
      "\n"
     ]
    }
   ],
   "source": [
    "# Now, lets expand this to parse sequences into a dictionary,\n",
    "# with the header line as the dictionary key\n",
    "\n",
    "seqs = dict()  # an empty dictionary\n",
    "seq = ''\n",
    "seq_id = None\n",
    "with open('evasins_canonical.fasta', 'r') as handle:\n",
    "    for line in handle:\n",
    "        if line.startswith('>'):\n",
    "            if seq_id is not None:\n",
    "                seqs[seq_id] = seq\n",
    "            seq_id = line[1:].strip()\n",
    "        else:\n",
    "            seq += line.strip()\n",
    "    seqs[seq_id] = seq\n",
    "\n",
    "# del seqs[None]\n",
    "            \n",
    "for seq_id, seq in list(seqs.items()):\n",
    "    print(seq_id)\n",
    "    print(seq)\n",
    "    print()\n"
   ]
  },
  {
   "cell_type": "markdown",
   "metadata": {},
   "source": [
    "We should wrap this up as a function to make it easy to reuse. Also, let's use the OrderedDict data structure from the `collections` module in the standard library so we maintain the order in the original FASTA file.\n",
    "\n",
    "(*Bonus points*: what would be a better thing to pass into the function instead of the `filename` as a string ?)"
   ]
  },
  {
   "cell_type": "code",
   "execution_count": 5,
   "metadata": {
    "scrolled": false
   },
   "outputs": [
    {
     "name": "stdout",
     "output_type": "stream",
     "text": [
      "sp|P0C8E7|EVA1_RHISA Evasin-1 OS=Rhipicephalus sanguineus PE=1 SV=1\n",
      "MTFKACIAIITALCAMQVICEDDEDYGDLGGCPFLVAENKTGYPTIVACKQDCNGTTETAPNGTRCFSIGDEGLRRMTANLPYDCPLGQCSNGDCIPKETYEVCYRRNWRDKKN\n",
      "\n",
      "sp|P0C8E9|EVA4_RHISA Evasin-4 OS=Rhipicephalus sanguineus PE=1 SV=1\n",
      "MTFKACIAIITALCAMQVICEDDEDYGDLGGCPFLVAENKTGYPTIVACKQDCNGTTETAPNGTRCFSIGDEGLRRMTANLPYDCPLGQCSNGDCIPKETYEVCYRRNWRDKKNMAFKYWFVFAAVLYARQWLSTKCEVPQMTSSSAPDLEEEDDYTAYAPLTCYFTNSTLGLLAPPNCSVLCNSTTTWFNETSPNNASCLLTVDFLTQDAILQENQPYNCSVGHCDNGTCAGPPRHAQCW\n",
      "\n"
     ]
    }
   ],
   "source": [
    "from collections import OrderedDict\n",
    "\n",
    "def parse_fasta(filename):\n",
    "    seqs = OrderedDict()\n",
    "    seq = ''\n",
    "    seq_id = None\n",
    "    with open(filename, 'r') as handle:\n",
    "        for line in handle:\n",
    "            if line.startswith('>'):\n",
    "                if seq_id is not None:\n",
    "                    seqs[seq_id] = seq\n",
    "                seq_id = line[1:].strip()\n",
    "            else:\n",
    "                seq += line.strip()\n",
    "        seqs[seq_id] = seq\n",
    "    return seqs\n",
    "            \n",
    "seqs = parse_fasta('evasins_canonical.fasta')\n",
    "\n",
    "for seq_id, seq in list(seqs.items()):\n",
    "    print(seq_id)\n",
    "    print(seq)\n",
    "    print()"
   ]
  }
 ],
 "metadata": {
  "celltoolbar": "Tags",
  "kernelspec": {
   "display_name": "Python 3",
   "language": "python",
   "name": "python3"
  },
  "language_info": {
   "codemirror_mode": {
    "name": "ipython",
    "version": 3
   },
   "file_extension": ".py",
   "mimetype": "text/x-python",
   "name": "python",
   "nbconvert_exporter": "python",
   "pygments_lexer": "ipython3",
   "version": "3.5.2"
  }
 },
 "nbformat": 4,
 "nbformat_minor": 2
}
