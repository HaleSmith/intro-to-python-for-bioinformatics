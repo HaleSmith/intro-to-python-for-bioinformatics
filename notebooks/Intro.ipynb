{
 "cells": [
  {
   "cell_type": "markdown",
   "metadata": {
    "collapsed": true,
    "slideshow": {
     "slide_type": "slide"
    }
   },
   "source": [
    "# Python: the basics"
   ]
  },
  {
   "cell_type": "markdown",
   "metadata": {
    "slideshow": {
     "slide_type": "slide"
    }
   },
   "source": [
    "## Using Jupyter notebooks: a quick tour\n",
    "\n",
    "***Insert -> Insert Cell Below***\n",
    "\n",
    "Type Python code in the cell, eg:\n",
    "\n",
    "```\n",
    "print(\"Hello Jupyter !\")\n",
    "```\n",
    "\n",
    "***Shift-Enter*** to run the contents of the cell\n",
    "\n",
    "When the text on the left hand of the cell is: `In [*]` (with an asterisk rather than a number), the cell is still running. It's usually best to wait until one cell has finished running before running the next."
   ]
  },
  {
   "cell_type": "code",
   "execution_count": 156,
   "metadata": {
    "slideshow": {
     "slide_type": "-"
    }
   },
   "outputs": [
    {
     "name": "stdout",
     "output_type": "stream",
     "text": [
      "Hello Jupyter !\n"
     ]
    }
   ],
   "source": [
    "print(\"Hello Jupyter !\")"
   ]
  },
  {
   "cell_type": "markdown",
   "metadata": {
    "slideshow": {
     "slide_type": "slide"
    }
   },
   "source": [
    "In Jupyter, just typing the name of a variable in the cell prints its representation:"
   ]
  },
  {
   "cell_type": "code",
   "execution_count": 157,
   "metadata": {
    "slideshow": {
     "slide_type": "-"
    }
   },
   "outputs": [
    {
     "data": {
      "text/plain": [
       "'Hello again !'"
      ]
     },
     "execution_count": 157,
     "metadata": {},
     "output_type": "execute_result"
    }
   ],
   "source": [
    "message = \"Hello again !\"\n",
    "message"
   ]
  },
  {
   "cell_type": "code",
   "execution_count": 158,
   "metadata": {
    "slideshow": {
     "slide_type": "slide"
    }
   },
   "outputs": [
    {
     "name": "stdout",
     "output_type": "stream",
     "text": [
      "No comment\n"
     ]
    }
   ],
   "source": [
    "# A 'hash' symbol denotes a comment\n",
    "# This is a comment. Anything after the 'hash' symbol on the line is ignored by the Python interpreter\n",
    "\n",
    "print(\"No comment\")  # comment"
   ]
  },
  {
   "cell_type": "markdown",
   "metadata": {
    "slideshow": {
     "slide_type": "slide"
    }
   },
   "source": [
    "## Variables and data types\n",
    "### Integers, floats, strings"
   ]
  },
  {
   "cell_type": "code",
   "execution_count": 159,
   "metadata": {
    "slideshow": {
     "slide_type": "-"
    }
   },
   "outputs": [],
   "source": [
    "a = 5"
   ]
  },
  {
   "cell_type": "code",
   "execution_count": 160,
   "metadata": {},
   "outputs": [
    {
     "data": {
      "text/plain": [
       "5"
      ]
     },
     "execution_count": 160,
     "metadata": {},
     "output_type": "execute_result"
    }
   ],
   "source": [
    "a"
   ]
  },
  {
   "cell_type": "code",
   "execution_count": 161,
   "metadata": {},
   "outputs": [
    {
     "data": {
      "text/plain": [
       "int"
      ]
     },
     "execution_count": 161,
     "metadata": {},
     "output_type": "execute_result"
    }
   ],
   "source": [
    "type(a)"
   ]
  },
  {
   "cell_type": "markdown",
   "metadata": {},
   "source": [
    "Adding a decimal point creates a `float`"
   ]
  },
  {
   "cell_type": "code",
   "execution_count": 162,
   "metadata": {},
   "outputs": [],
   "source": [
    "b = 5.0"
   ]
  },
  {
   "cell_type": "code",
   "execution_count": 163,
   "metadata": {},
   "outputs": [
    {
     "data": {
      "text/plain": [
       "5.0"
      ]
     },
     "execution_count": 163,
     "metadata": {},
     "output_type": "execute_result"
    }
   ],
   "source": [
    "b"
   ]
  },
  {
   "cell_type": "code",
   "execution_count": 164,
   "metadata": {},
   "outputs": [
    {
     "data": {
      "text/plain": [
       "float"
      ]
     },
     "execution_count": 164,
     "metadata": {},
     "output_type": "execute_result"
    }
   ],
   "source": [
    "type(b)"
   ]
  },
  {
   "cell_type": "markdown",
   "metadata": {
    "collapsed": true,
    "slideshow": {
     "slide_type": "slide"
    }
   },
   "source": [
    "`int` and `float` are collectively called 'numeric' types\n",
    "\n",
    "(There are also other numeric types like `hex` for hexidemical and `complex` for complex numbers)"
   ]
  },
  {
   "cell_type": "markdown",
   "metadata": {
    "tags": [
     "challenge"
    ]
   },
   "source": [
    "## Challenge\n",
    "\n",
    "What is the type of the variable `letters` defined below ?\n",
    "\n",
    "`letters = \"ABACBS\"`"
   ]
  },
  {
   "cell_type": "code",
   "execution_count": 291,
   "metadata": {
    "tags": [
     "solution"
    ]
   },
   "outputs": [
    {
     "data": {
      "text/plain": [
       "str"
      ]
     },
     "execution_count": 291,
     "metadata": {},
     "output_type": "execute_result"
    }
   ],
   "source": [
    "letters = \"ABACBS\"\n",
    "type(letters)"
   ]
  },
  {
   "cell_type": "markdown",
   "metadata": {
    "slideshow": {
     "slide_type": "slide"
    }
   },
   "source": [
    "### Strings"
   ]
  },
  {
   "cell_type": "code",
   "execution_count": 280,
   "metadata": {},
   "outputs": [],
   "source": [
    "some_words = \"Python3 strings are Unicode (UTF-8) ❤❤❤ 😸 蛇\""
   ]
  },
  {
   "cell_type": "code",
   "execution_count": 281,
   "metadata": {},
   "outputs": [
    {
     "data": {
      "text/plain": [
       "'Python3 strings are Unicode (UTF-8) ❤❤❤ 😸 蛇'"
      ]
     },
     "execution_count": 281,
     "metadata": {},
     "output_type": "execute_result"
    }
   ],
   "source": [
    "some_words"
   ]
  },
  {
   "cell_type": "code",
   "execution_count": 282,
   "metadata": {},
   "outputs": [
    {
     "data": {
      "text/plain": [
       "str"
      ]
     },
     "execution_count": 282,
     "metadata": {},
     "output_type": "execute_result"
    }
   ],
   "source": [
    "type(some_words)"
   ]
  },
  {
   "cell_type": "code",
   "execution_count": 283,
   "metadata": {
    "slideshow": {
     "slide_type": "subslide"
    }
   },
   "outputs": [
    {
     "data": {
      "text/plain": [
       "'You can use \"single\" quotes'"
      ]
     },
     "execution_count": 283,
     "metadata": {},
     "output_type": "execute_result"
    }
   ],
   "source": [
    "more_words = 'You can use \"single\" quotes'\n",
    "more_words"
   ]
  },
  {
   "cell_type": "code",
   "execution_count": 284,
   "metadata": {
    "slideshow": {
     "slide_type": "subslide"
    }
   },
   "outputs": [
    {
     "name": "stdout",
     "output_type": "stream",
     "text": [
      "In the last years of the nineteenth centuary,\n",
      "human affairs were being watched from the timeless worlds of space.\n",
      "Nobody would have believed that we were being scrutinized as a ....\n",
      "\n",
      ".. etc ..\n",
      "\n"
     ]
    }
   ],
   "source": [
    "triple_quoted_multiline = \"\"\"In the last years of the nineteenth centuary,\n",
    "human affairs were being watched from the timeless worlds of space.\n",
    "Nobody would have believed that we were being scrutinized as a ....\n",
    "\n",
    ".. etc ..\n",
    "\"\"\"\n",
    "\n",
    "print(triple_quoted_multiline)"
   ]
  },
  {
   "cell_type": "code",
   "execution_count": 298,
   "metadata": {},
   "outputs": [
    {
     "name": "stdout",
     "output_type": "stream",
     "text": [
      "You can use \"single\" quotes and BTW, did I mention that Python3 strings are Unicode (UTF-8) ❤❤❤ 😸 蛇\n"
     ]
    }
   ],
   "source": [
    "# You can substitute variables into a string like this.\n",
    "# The variables listed after the string replace each `{0}`, `{1}` etc, in order\n",
    "\n",
    "formatted = \"{0} and BTW, did I mention that {1}\".format(more_words, some_words)\n",
    "print(formatted)\n",
    "\n",
    "# The example above is 'new-style' string formatting. \n",
    "# You may also see 'old-style' (C-style) string formatting in examples, which looks like: \n",
    "\n",
    "oldskool = \"%s and BTW, did I mention that %s\" % (more_words, some_words)\n",
    "\n",
    "# There's lots of fancy ways to format numbers in strings (eg number of decimal places, scientific notation)\n",
    "# we won't go into today. See: https://pyformat.info/"
   ]
  },
  {
   "cell_type": "markdown",
   "metadata": {
    "slideshow": {
     "slide_type": "slide"
    }
   },
   "source": [
    "## Operators\n",
    "\n",
    "`+`  `-`  `*`  `/`  `%`  `**`  `//`  \n",
    "\n",
    "`+=`  `*=`  `-=`  `/=`"
   ]
  },
  {
   "cell_type": "code",
   "execution_count": 170,
   "metadata": {
    "slideshow": {
     "slide_type": "slide"
    }
   },
   "outputs": [
    {
     "data": {
      "text/plain": [
       "6"
      ]
     },
     "execution_count": 170,
     "metadata": {},
     "output_type": "execute_result"
    }
   ],
   "source": [
    "# int + int = int\n",
    "a = 5\n",
    "a + 1"
   ]
  },
  {
   "cell_type": "code",
   "execution_count": 171,
   "metadata": {},
   "outputs": [
    {
     "data": {
      "text/plain": [
       "6.0"
      ]
     },
     "execution_count": 171,
     "metadata": {},
     "output_type": "execute_result"
    }
   ],
   "source": [
    "# float + int = float\n",
    "b = 5.0\n",
    "b + 1"
   ]
  },
  {
   "cell_type": "code",
   "execution_count": 172,
   "metadata": {},
   "outputs": [
    {
     "data": {
      "text/plain": [
       "10.0"
      ]
     },
     "execution_count": 172,
     "metadata": {},
     "output_type": "execute_result"
    }
   ],
   "source": [
    "a + b"
   ]
  },
  {
   "cell_type": "code",
   "execution_count": 173,
   "metadata": {
    "slideshow": {
     "slide_type": "slide"
    }
   },
   "outputs": [
    {
     "ename": "TypeError",
     "evalue": "unsupported operand type(s) for +: 'int' and 'str'",
     "output_type": "error",
     "traceback": [
      "\u001b[0;31m---------------------------------------------------------------------------\u001b[0m",
      "\u001b[0;31mTypeError\u001b[0m                                 Traceback (most recent call last)",
      "\u001b[0;32m<ipython-input-173-d1919f666d68>\u001b[0m in \u001b[0;36m<module>\u001b[0;34m()\u001b[0m\n\u001b[1;32m      1\u001b[0m \u001b[0msome_words\u001b[0m \u001b[0;34m=\u001b[0m \u001b[0;34m\"Python3 strings are Unicode (UTF-8) ❤❤❤ 😸 蛇\"\u001b[0m\u001b[0;34m\u001b[0m\u001b[0m\n\u001b[1;32m      2\u001b[0m \u001b[0ma\u001b[0m \u001b[0;34m=\u001b[0m \u001b[0;36m6\u001b[0m\u001b[0;34m\u001b[0m\u001b[0m\n\u001b[0;32m----> 3\u001b[0;31m \u001b[0ma\u001b[0m \u001b[0;34m+\u001b[0m \u001b[0msome_words\u001b[0m\u001b[0;34m\u001b[0m\u001b[0m\n\u001b[0m",
      "\u001b[0;31mTypeError\u001b[0m: unsupported operand type(s) for +: 'int' and 'str'"
     ]
    }
   ],
   "source": [
    "some_words = \"Python3 strings are Unicode (UTF-8) ❤❤❤ 😸 蛇\"\n",
    "a = 6\n",
    "a + some_words"
   ]
  },
  {
   "cell_type": "code",
   "execution_count": 307,
   "metadata": {},
   "outputs": [
    {
     "data": {
      "text/plain": [
       "'16 Python3 strings are Unicode (UTF-8) ❤❤❤ 😸 蛇'"
      ]
     },
     "execution_count": 307,
     "metadata": {},
     "output_type": "execute_result"
    }
   ],
   "source": [
    "str(a) + \" \" + some_words"
   ]
  },
  {
   "cell_type": "code",
   "execution_count": 308,
   "metadata": {
    "slideshow": {
     "slide_type": "slide"
    }
   },
   "outputs": [
    {
     "data": {
      "text/plain": [
       "160"
      ]
     },
     "execution_count": 308,
     "metadata": {},
     "output_type": "execute_result"
    }
   ],
   "source": [
    "# Multiplication\n",
    "a * 10"
   ]
  },
  {
   "cell_type": "code",
   "execution_count": 309,
   "metadata": {},
   "outputs": [
    {
     "data": {
      "text/plain": [
       "8.0"
      ]
     },
     "execution_count": 309,
     "metadata": {},
     "output_type": "execute_result"
    }
   ],
   "source": [
    "# Division\n",
    "a / 2"
   ]
  },
  {
   "cell_type": "code",
   "execution_count": 310,
   "metadata": {},
   "outputs": [
    {
     "data": {
      "text/plain": [
       "256"
      ]
     },
     "execution_count": 310,
     "metadata": {},
     "output_type": "execute_result"
    }
   ],
   "source": [
    "# Power\n",
    "a**2"
   ]
  },
  {
   "cell_type": "code",
   "execution_count": 311,
   "metadata": {},
   "outputs": [
    {
     "data": {
      "text/plain": [
       "0"
      ]
     },
     "execution_count": 311,
     "metadata": {},
     "output_type": "execute_result"
    }
   ],
   "source": [
    "# Modulus - divide as whole numbers and return the remainder\n",
    "a % 2"
   ]
  },
  {
   "cell_type": "code",
   "execution_count": 312,
   "metadata": {},
   "outputs": [
    {
     "data": {
      "text/plain": [
       "17"
      ]
     },
     "execution_count": 312,
     "metadata": {},
     "output_type": "execute_result"
    }
   ],
   "source": [
    "# Shorthand: operators with assignment\n",
    "a += 1\n",
    "a"
   ]
  },
  {
   "cell_type": "markdown",
   "metadata": {
    "slideshow": {
     "slide_type": "slide"
    }
   },
   "source": [
    "## Lists and sequence types"
   ]
  },
  {
   "cell_type": "markdown",
   "metadata": {
    "slideshow": {
     "slide_type": "slide"
    }
   },
   "source": [
    "### Lists"
   ]
  },
  {
   "cell_type": "code",
   "execution_count": 313,
   "metadata": {},
   "outputs": [
    {
     "data": {
      "text/plain": [
       "[2, 4, 6, 8, 10]"
      ]
     },
     "execution_count": 313,
     "metadata": {},
     "output_type": "execute_result"
    }
   ],
   "source": [
    "numbers = [2, 4, 6, 8, 10]\n",
    "numbers"
   ]
  },
  {
   "cell_type": "code",
   "execution_count": 314,
   "metadata": {},
   "outputs": [
    {
     "data": {
      "text/plain": [
       "5"
      ]
     },
     "execution_count": 314,
     "metadata": {},
     "output_type": "execute_result"
    }
   ],
   "source": [
    "len(numbers)"
   ]
  },
  {
   "cell_type": "code",
   "execution_count": 315,
   "metadata": {},
   "outputs": [
    {
     "data": {
      "text/plain": [
       "['asdf', 2, 3.142]"
      ]
     },
     "execution_count": 315,
     "metadata": {},
     "output_type": "execute_result"
    }
   ],
   "source": [
    "# Lists can contain multiple data types\n",
    "mixed_list = [\"asdf\", 2, 3.142]\n",
    "mixed_list"
   ]
  },
  {
   "cell_type": "code",
   "execution_count": 316,
   "metadata": {
    "slideshow": {
     "slide_type": "slide"
    }
   },
   "outputs": [
    {
     "data": {
      "text/plain": [
       "[['asdf', 2, 3.142], [2, 4, 6, 8, 10], ['a', 'bc']]"
      ]
     },
     "execution_count": 316,
     "metadata": {},
     "output_type": "execute_result"
    }
   ],
   "source": [
    "list_of_lists = [mixed_list, numbers, ['a','b''c']]\n",
    "list_of_lists"
   ]
  },
  {
   "cell_type": "code",
   "execution_count": 317,
   "metadata": {},
   "outputs": [
    {
     "data": {
      "text/plain": [
       "2"
      ]
     },
     "execution_count": 317,
     "metadata": {},
     "output_type": "execute_result"
    }
   ],
   "source": [
    "numbers[0]"
   ]
  },
  {
   "cell_type": "code",
   "execution_count": 318,
   "metadata": {},
   "outputs": [
    {
     "data": {
      "text/plain": [
       "8"
      ]
     },
     "execution_count": 318,
     "metadata": {},
     "output_type": "execute_result"
    }
   ],
   "source": [
    "numbers[3]"
   ]
  },
  {
   "cell_type": "code",
   "execution_count": 319,
   "metadata": {},
   "outputs": [
    {
     "data": {
      "text/plain": [
       "[2, 4, 6, 800, 10]"
      ]
     },
     "execution_count": 319,
     "metadata": {},
     "output_type": "execute_result"
    }
   ],
   "source": [
    "numbers[3] = numbers[3] * 100\n",
    "numbers"
   ]
  },
  {
   "cell_type": "code",
   "execution_count": 320,
   "metadata": {},
   "outputs": [
    {
     "data": {
      "text/plain": [
       "[2, 4, 6, 800, 10, 12]"
      ]
     },
     "execution_count": 320,
     "metadata": {},
     "output_type": "execute_result"
    }
   ],
   "source": [
    "numbers.append(12)\n",
    "numbers"
   ]
  },
  {
   "cell_type": "code",
   "execution_count": 321,
   "metadata": {},
   "outputs": [
    {
     "data": {
      "text/plain": [
       "[2, 4, 6, 800, 10, 12, 14, 16, 18]"
      ]
     },
     "execution_count": 321,
     "metadata": {},
     "output_type": "execute_result"
    }
   ],
   "source": [
    "numbers.extend([14, 16, 18])\n",
    "numbers"
   ]
  },
  {
   "cell_type": "code",
   "execution_count": 322,
   "metadata": {},
   "outputs": [
    {
     "data": {
      "text/plain": [
       "[2, 4, 6, 800, 10, 12, 14, 16, 18, 100, 200, 300, 400]"
      ]
     },
     "execution_count": 322,
     "metadata": {},
     "output_type": "execute_result"
    }
   ],
   "source": [
    "# The '+' operator for lists is equivalent to list.extend()\n",
    "numbers + [100, 200, 300, 400]"
   ]
  },
  {
   "cell_type": "markdown",
   "metadata": {
    "slideshow": {
     "slide_type": "slide"
    }
   },
   "source": [
    "### Tuples"
   ]
  },
  {
   "cell_type": "code",
   "execution_count": 323,
   "metadata": {},
   "outputs": [
    {
     "data": {
      "text/plain": [
       "('bar', 100, 200, 'foo')"
      ]
     },
     "execution_count": 323,
     "metadata": {},
     "output_type": "execute_result"
    }
   ],
   "source": [
    "tuples_are_immutable = (\"bar\", 100, 200, \"foo\")\n",
    "tuples_are_immutable"
   ]
  },
  {
   "cell_type": "code",
   "execution_count": 324,
   "metadata": {},
   "outputs": [
    {
     "data": {
      "text/plain": [
       "100"
      ]
     },
     "execution_count": 324,
     "metadata": {},
     "output_type": "execute_result"
    }
   ],
   "source": [
    "tuples_are_immutable[1]"
   ]
  },
  {
   "cell_type": "code",
   "execution_count": 325,
   "metadata": {},
   "outputs": [
    {
     "ename": "TypeError",
     "evalue": "'tuple' object does not support item assignment",
     "output_type": "error",
     "traceback": [
      "\u001b[0;31m---------------------------------------------------------------------------\u001b[0m",
      "\u001b[0;31mTypeError\u001b[0m                                 Traceback (most recent call last)",
      "\u001b[0;32m<ipython-input-325-c91965b0815a>\u001b[0m in \u001b[0;36m<module>\u001b[0;34m()\u001b[0m\n\u001b[0;32m----> 1\u001b[0;31m \u001b[0mtuples_are_immutable\u001b[0m\u001b[0;34m[\u001b[0m\u001b[0;36m1\u001b[0m\u001b[0;34m]\u001b[0m \u001b[0;34m=\u001b[0m \u001b[0;36m666\u001b[0m\u001b[0;34m\u001b[0m\u001b[0m\n\u001b[0m",
      "\u001b[0;31mTypeError\u001b[0m: 'tuple' object does not support item assignment"
     ]
    }
   ],
   "source": [
    "tuples_are_immutable[1] = 666"
   ]
  },
  {
   "cell_type": "markdown",
   "metadata": {
    "slideshow": {
     "slide_type": "slide"
    }
   },
   "source": [
    "### Sets"
   ]
  },
  {
   "cell_type": "code",
   "execution_count": 326,
   "metadata": {},
   "outputs": [
    {
     "data": {
      "text/plain": [
       "{1, 2, 3, 4}"
      ]
     },
     "execution_count": 326,
     "metadata": {},
     "output_type": "execute_result"
    }
   ],
   "source": [
    "unique_items = set([1, 1, 2, 2, 3, 4, 1, 2, 3, 4])\n",
    "# or curly brackets\n",
    "# unique_items = {1, 1, 2, 2, 3, 4, 1, 2, 3, 4}\n",
    "unique_items"
   ]
  },
  {
   "cell_type": "markdown",
   "metadata": {
    "slideshow": {
     "slide_type": "slide"
    }
   },
   "source": [
    "### Slicing"
   ]
  },
  {
   "cell_type": "code",
   "execution_count": 327,
   "metadata": {},
   "outputs": [
    {
     "data": {
      "text/plain": [
       "[2, 4, 6]"
      ]
     },
     "execution_count": 327,
     "metadata": {},
     "output_type": "execute_result"
    }
   ],
   "source": [
    "numbers = [2, 4, 6, 8, 10, 12]\n",
    "\n",
    "# list[start:end]\n",
    "# start is inclusive, end isn't\n",
    "\n",
    "numbers[0:3]"
   ]
  },
  {
   "cell_type": "code",
   "execution_count": 328,
   "metadata": {},
   "outputs": [
    {
     "data": {
      "text/plain": [
       "[10, 12]"
      ]
     },
     "execution_count": 328,
     "metadata": {},
     "output_type": "execute_result"
    }
   ],
   "source": [
    "numbers[4:7]"
   ]
  },
  {
   "cell_type": "code",
   "execution_count": 329,
   "metadata": {},
   "outputs": [
    {
     "data": {
      "text/plain": [
       "[2, 4, 6]"
      ]
     },
     "execution_count": 329,
     "metadata": {},
     "output_type": "execute_result"
    }
   ],
   "source": [
    "numbers[:3] # omitting start implies 0 (the very start)"
   ]
  },
  {
   "cell_type": "code",
   "execution_count": 330,
   "metadata": {},
   "outputs": [
    {
     "data": {
      "text/plain": [
       "[8, 10, 12]"
      ]
     },
     "execution_count": 330,
     "metadata": {},
     "output_type": "execute_result"
    }
   ],
   "source": [
    "numbers[3:] # omitting end means to the very end eg len(numbers)"
   ]
  },
  {
   "cell_type": "code",
   "execution_count": 331,
   "metadata": {},
   "outputs": [
    {
     "data": {
      "text/plain": [
       "[12]"
      ]
     },
     "execution_count": 331,
     "metadata": {},
     "output_type": "execute_result"
    }
   ],
   "source": [
    "numbers[-1:] # negative values reverse direction"
   ]
  },
  {
   "cell_type": "code",
   "execution_count": 332,
   "metadata": {},
   "outputs": [
    {
     "data": {
      "text/plain": [
       "[2, 4, 6, 8, 10]"
      ]
     },
     "execution_count": 332,
     "metadata": {},
     "output_type": "execute_result"
    }
   ],
   "source": [
    "numbers[:-1]"
   ]
  },
  {
   "cell_type": "code",
   "execution_count": 333,
   "metadata": {},
   "outputs": [
    {
     "data": {
      "text/plain": [
       "[2, 6, 10]"
      ]
     },
     "execution_count": 333,
     "metadata": {},
     "output_type": "execute_result"
    }
   ],
   "source": [
    "# you can also specify a step size\n",
    "# list[start:end:step]\n",
    "\n",
    "numbers[0:6:2]"
   ]
  },
  {
   "cell_type": "code",
   "execution_count": 334,
   "metadata": {},
   "outputs": [
    {
     "data": {
      "text/plain": [
       "[2, 4, 6, 8, 10, 12]"
      ]
     },
     "execution_count": 334,
     "metadata": {},
     "output_type": "execute_result"
    }
   ],
   "source": [
    "# [:] is a shorthand for copying a list.\n",
    "# Equivalent to:\n",
    "# n_copy = list(numbers)\n",
    "\n",
    "n_copy = numbers[:]\n",
    "n_copy"
   ]
  },
  {
   "cell_type": "code",
   "execution_count": 335,
   "metadata": {},
   "outputs": [
    {
     "data": {
      "text/plain": [
       "[2, 4, 6, 8, 10, 12]"
      ]
     },
     "execution_count": 335,
     "metadata": {},
     "output_type": "execute_result"
    }
   ],
   "source": [
    "n_copy[3] = 8\n",
    "n_copy"
   ]
  },
  {
   "cell_type": "code",
   "execution_count": 336,
   "metadata": {},
   "outputs": [
    {
     "data": {
      "text/plain": [
       "[2, 4, 6, 8, 10, 12]"
      ]
     },
     "execution_count": 336,
     "metadata": {},
     "output_type": "execute_result"
    }
   ],
   "source": [
    "numbers"
   ]
  },
  {
   "cell_type": "markdown",
   "metadata": {
    "tags": [
     "challenge"
    ]
   },
   "source": [
    "## Challenge\n",
    "\n",
    "Given the list: `['banana', 'cherry', 'strawberry', 'orange']`\n",
    "\n",
    "Return a list of just the red fruits."
   ]
  },
  {
   "cell_type": "code",
   "execution_count": 337,
   "metadata": {
    "tags": [
     "solution"
    ]
   },
   "outputs": [
    {
     "data": {
      "text/plain": [
       "['cherry', 'strawberry']"
      ]
     },
     "execution_count": 337,
     "metadata": {},
     "output_type": "execute_result"
    }
   ],
   "source": [
    "fruits = ['banana', 'cherry', 'strawberry', 'orange']\n",
    "red_ones = fruits[1:3]\n",
    "red_ones"
   ]
  },
  {
   "cell_type": "markdown",
   "metadata": {},
   "source": [
    "### Dictionaries\n",
    "\n",
    "Dictionaries store a mapping of key-value pairs. They are unordered. \n",
    "\n",
    "Other programming languages might call this a 'hash', 'hashtable' or 'hashmap'."
   ]
  },
  {
   "cell_type": "code",
   "execution_count": 338,
   "metadata": {},
   "outputs": [
    {
     "data": {
      "text/plain": [
       "{'Apple': 1, 'Orange': 2, 'Pear': 4}"
      ]
     },
     "execution_count": 338,
     "metadata": {},
     "output_type": "execute_result"
    }
   ],
   "source": [
    "pairs = {'Apple': 1, 'Orange': 2, 'Pear': 4}\n",
    "pairs"
   ]
  },
  {
   "cell_type": "code",
   "execution_count": 339,
   "metadata": {},
   "outputs": [
    {
     "data": {
      "text/plain": [
       "2"
      ]
     },
     "execution_count": 339,
     "metadata": {},
     "output_type": "execute_result"
    }
   ],
   "source": [
    "pairs['Orange']"
   ]
  },
  {
   "cell_type": "code",
   "execution_count": 340,
   "metadata": {},
   "outputs": [
    {
     "data": {
      "text/plain": [
       "{'Apple': 1, 'Orange': 16, 'Pear': 4}"
      ]
     },
     "execution_count": 340,
     "metadata": {},
     "output_type": "execute_result"
    }
   ],
   "source": [
    "pairs['Orange'] = 16\n",
    "pairs"
   ]
  },
  {
   "cell_type": "code",
   "execution_count": 341,
   "metadata": {},
   "outputs": [
    {
     "data": {
      "text/plain": [
       "dict_items([('Pear', 4), ('Orange', 16), ('Apple', 1)])"
      ]
     },
     "execution_count": 341,
     "metadata": {},
     "output_type": "execute_result"
    }
   ],
   "source": [
    "pairs.items()\n",
    "# list(pairs.items())"
   ]
  },
  {
   "cell_type": "code",
   "execution_count": 342,
   "metadata": {},
   "outputs": [
    {
     "data": {
      "text/plain": [
       "dict_values([4, 16, 1])"
      ]
     },
     "execution_count": 342,
     "metadata": {},
     "output_type": "execute_result"
    }
   ],
   "source": [
    "pairs.values()\n",
    "# list(pairs.values())"
   ]
  },
  {
   "cell_type": "code",
   "execution_count": 343,
   "metadata": {},
   "outputs": [
    {
     "data": {
      "text/plain": [
       "dict_keys(['Pear', 'Orange', 'Apple'])"
      ]
     },
     "execution_count": 343,
     "metadata": {},
     "output_type": "execute_result"
    }
   ],
   "source": [
    "pairs.keys()\n",
    "# list(pairs.keys())"
   ]
  },
  {
   "cell_type": "code",
   "execution_count": 344,
   "metadata": {},
   "outputs": [
    {
     "data": {
      "text/plain": [
       "3"
      ]
     },
     "execution_count": 344,
     "metadata": {},
     "output_type": "execute_result"
    }
   ],
   "source": [
    "len(pairs)"
   ]
  },
  {
   "cell_type": "code",
   "execution_count": 345,
   "metadata": {},
   "outputs": [
    {
     "data": {
      "text/plain": [
       "{'first': {1: 2, 2: 4, 4: 8, 8: 16}, 'second': {'a': 2.2, 'b': 4.4}}"
      ]
     },
     "execution_count": 345,
     "metadata": {},
     "output_type": "execute_result"
    }
   ],
   "source": [
    "dict_of_dicts = {'first': {1:2, 2: 4, 4: 8, 8: 16}, 'second': {'a': 2.2, 'b': 4.4}}\n",
    "dict_of_dicts"
   ]
  },
  {
   "cell_type": "markdown",
   "metadata": {},
   "source": [
    "## Functions"
   ]
  },
  {
   "cell_type": "markdown",
   "metadata": {},
   "source": [
    "Functions wrap up reusable pieces of code - the *DRY* principle\n",
    "\n",
    "Significant whitespace: the body of the function is indicated by indenting by 4 spaces\n",
    "\n",
    "*(We also use these indented blocks for if/else, for and while statements .. later !)*\n",
    "\n",
    "`return` statements immediately return a value (or `None` if no value is given)\n",
    "\n",
    "Any code in the function after the `return` statement does not get executed."
   ]
  },
  {
   "cell_type": "code",
   "execution_count": 346,
   "metadata": {},
   "outputs": [
    {
     "name": "stdout",
     "output_type": "stream",
     "text": [
      "256 python-esque\n"
     ]
    }
   ],
   "source": [
    "def square(x):\n",
    "    return x**2\n",
    "\n",
    "def hyphenate(a, b):\n",
    "    return a + '-' + b\n",
    "    print(\"We will never get here\")\n",
    "\n",
    "print(square(16), hyphenate('python', 'esque'))"
   ]
  },
  {
   "cell_type": "markdown",
   "metadata": {},
   "source": [
    "### Indentation and whitespace\n",
    "\n",
    "* Python uses spaces at the start of a line to indicate a 'block' of code.\n",
    "* A new block of code should be indented by **four** spaces.\n",
    "\n",
    "* For a function, all the indented code is part of the the function.\n",
    "* This also applies to loops like `for` and `while` and conditionals like `if`\n",
    "\n",
    "(Indenting/dedenting by four spaces in Python is the equivalent to opening **{** and closing **}** curly brackets in languages like Java, Javascript, C, C++, C# etc)\n",
    "\n",
    "(You can technically use tab characters, but please don't. The official Python style guide prefers spaces https://www.python.org/dev/peps/pep-0008/)."
   ]
  },
  {
   "cell_type": "code",
   "execution_count": 347,
   "metadata": {},
   "outputs": [
    {
     "name": "stdout",
     "output_type": "stream",
     "text": [
      "4 6 9\n"
     ]
    }
   ],
   "source": [
    "# Functions can return multiple values (just return a tuple and unpack it)\n",
    "def lengths(a, b, c):\n",
    "    return len(a), len(b), len(c)\n",
    "\n",
    "x, y, z = lengths(\"long\", \"longer\", \"LONGEREST\")\n",
    "print(x, y, z)"
   ]
  },
  {
   "cell_type": "code",
   "execution_count": 348,
   "metadata": {
    "tags": [
     "biosummer"
    ]
   },
   "outputs": [
    {
     "data": {
      "text/plain": [
       "['MIL', 'GROGDRIN', 'PINEAPPLE']"
      ]
     },
     "execution_count": 348,
     "metadata": {},
     "output_type": "execute_result"
    }
   ],
   "source": [
    "def split_at(seq, residue='K'):\n",
    "    \"\"\"\n",
    "    Takes a protein sequence (as a string) and splits it at each K residue,\n",
    "    or the residue specified in the `residue` keyword argument. Split point\n",
    "    residue is discarded.\n",
    "    \n",
    "    Returns a list of strings.\n",
    "    \"\"\"\n",
    "    return seq.split(residue)\n",
    "\n",
    "split_at('MILKGROGDRINKPINEAPPLE')"
   ]
  },
  {
   "cell_type": "code",
   "execution_count": 349,
   "metadata": {
    "tags": [
     "oneday",
     "bonus"
    ]
   },
   "outputs": [
    {
     "data": {
      "text/plain": [
       "['MILK', 'GR', 'OGDR', 'INKPINEAPPLE']"
      ]
     },
     "execution_count": 349,
     "metadata": {},
     "output_type": "execute_result"
    }
   ],
   "source": [
    "# The previous example isn't a good proteolytic digest since the 'K' is removed\n",
    "# For the record ... here's a better version that is more like a real tryptic digest\n",
    "import re\n",
    "\n",
    "def digest(seq, cut_regex=r'[KR][^P]'):\n",
    "    \"\"\"\n",
    "    Takes a protein sequence (as a string) and splits it after \n",
    "    each K or R residue, except if followed by a P.\n",
    "    \n",
    "    Returns a list of strings.\n",
    "    \"\"\"\n",
    "    cut_indices = list(re.finditer(cut_regex, seq.upper()))\n",
    "    peptides = []\n",
    "    i = 0\n",
    "    for j in cut_indices:\n",
    "        peptides.append(seq[i:j.start()+1])\n",
    "        i = j.start()+1\n",
    "    peptides.append(seq[i:])\n",
    "    return peptides\n",
    "\n",
    "digest('MILKGROGDRINKPINEAPPLE')"
   ]
  },
  {
   "cell_type": "code",
   "execution_count": 350,
   "metadata": {
    "tags": [
     "oneday",
     "bonus"
    ]
   },
   "outputs": [
    {
     "data": {
      "text/plain": [
       "['MILKY', 'GROGFPCE']"
      ]
     },
     "execution_count": 350,
     "metadata": {},
     "output_type": "execute_result"
    }
   ],
   "source": [
    "digest('MILKYGROGFPCE', cut_regex=r'[WYF][^P]')"
   ]
  },
  {
   "cell_type": "code",
   "execution_count": 351,
   "metadata": {},
   "outputs": [],
   "source": [
    "# Functions can have an indeterminate number of arguments and keyword arguments using * and **\n",
    "import math\n",
    "\n",
    "def vector_magnitude(x, y, *args, **kwargs):\n",
    "    \n",
    "    # print(args)    # args is a tuple\n",
    "    # print(kwargs)  # kwargs is a dictionary\n",
    "    \n",
    "    scale = kwargs.get('scale', 1)\n",
    "    \n",
    "    vector = [x,y] + list(args)\n",
    "    return math.sqrt(sum(v**2 for v in vector)) * scale"
   ]
  },
  {
   "cell_type": "code",
   "execution_count": 352,
   "metadata": {},
   "outputs": [
    {
     "name": "stdout",
     "output_type": "stream",
     "text": [
      "9.219544457292887\n"
     ]
    }
   ],
   "source": [
    "print(vector_magnitude(1, 2, 4, 8, m=2))"
   ]
  },
  {
   "cell_type": "code",
   "execution_count": 353,
   "metadata": {
    "tags": [
     "oneday"
    ]
   },
   "outputs": [
    {
     "data": {
      "text/plain": [
       "'MILKGROGKKRK'"
      ]
     },
     "execution_count": 353,
     "metadata": {},
     "output_type": "execute_result"
    }
   ],
   "source": [
    "# One sublte gothca ... mutable keyword arguments might not work the way you expect\n",
    "def add_nls(seq, extra_residues=['K', 'K', 'R', 'K']):\n",
    "    \"\"\"\n",
    "    Adds a nuclear localisation signal to the C-terminal end of\n",
    "    the provided sequence (string). The signal sequences can be customized \n",
    "    with the extra_residues keyword argument (a list of residues).\n",
    "    \n",
    "    Returns a string.\n",
    "    \"\"\"\n",
    "\n",
    "    suffixed = seq + ''.join(extra_residues)\n",
    "    # Here we modify the extra_residues list\n",
    "    extra_residues.append('-')\n",
    "    \n",
    "    return suffixed\n",
    "\n",
    "add_nls(\"MILKGROG\")"
   ]
  },
  {
   "cell_type": "code",
   "execution_count": 354,
   "metadata": {
    "tags": [
     "oneday"
    ]
   },
   "outputs": [
    {
     "data": {
      "text/plain": [
       "'MILKGROGKKRK-'"
      ]
     },
     "execution_count": 354,
     "metadata": {},
     "output_type": "execute_result"
    }
   ],
   "source": [
    "add_nls(\"MILKGROG\")"
   ]
  },
  {
   "cell_type": "code",
   "execution_count": 355,
   "metadata": {
    "tags": [
     "oneday"
    ]
   },
   "outputs": [
    {
     "data": {
      "text/plain": [
       "'MILKGROGKKRK--'"
      ]
     },
     "execution_count": 355,
     "metadata": {},
     "output_type": "execute_result"
    }
   ],
   "source": [
    "# The list assigned to the keyword argument is only initialized when the function is first defined !!\n",
    "add_nls(\"MILKGROG\")"
   ]
  },
  {
   "cell_type": "code",
   "execution_count": 356,
   "metadata": {
    "tags": [
     "oneday"
    ]
   },
   "outputs": [
    {
     "name": "stdout",
     "output_type": "stream",
     "text": [
      "MILKGROGKKRK MILKGROGKKRK\n"
     ]
    }
   ],
   "source": [
    "# The safe way to define default values when they are mutable types (lists, dicts)\n",
    "def add_nls(seq, extra_residues=None):\n",
    "    \n",
    "    # Set the keyword arg default inside the function\n",
    "    if extra_residues is None:\n",
    "        extra_residues = ['K', 'K', 'R', 'K']\n",
    "        \n",
    "    suffixed = seq + ''.join(extra_residues)\n",
    "    # Here we modify the extra_residues list\n",
    "    extra_residues.append('-')\n",
    "    \n",
    "    return suffixed\n",
    "\n",
    "print(add_nls(\"MILKGROG\"), add_nls(\"MILKGROG\"))"
   ]
  },
  {
   "cell_type": "code",
   "execution_count": 357,
   "metadata": {
    "tags": [
     "oneday"
    ]
   },
   "outputs": [],
   "source": [
    "# Names can refer to functions - functions can be passed into functions"
   ]
  },
  {
   "cell_type": "code",
   "execution_count": 358,
   "metadata": {
    "tags": [
     "oneday"
    ]
   },
   "outputs": [
    {
     "data": {
      "text/plain": [
       "[1, 4, 9, 16]"
      ]
     },
     "execution_count": 358,
     "metadata": {},
     "output_type": "execute_result"
    }
   ],
   "source": [
    "# Lambdas: throw-away function one-liners\n",
    "list(map(square, [1, 2, 3, 4]))"
   ]
  },
  {
   "cell_type": "code",
   "execution_count": 359,
   "metadata": {
    "tags": [
     "oneday"
    ]
   },
   "outputs": [
    {
     "data": {
      "text/plain": [
       "[1, 4, 9, 16]"
      ]
     },
     "execution_count": 359,
     "metadata": {},
     "output_type": "execute_result"
    }
   ],
   "source": [
    "# The equivalent, using a lambda\n",
    "list(map(lambda x: x**2, [1,2,3,4]))"
   ]
  },
  {
   "cell_type": "code",
   "execution_count": 360,
   "metadata": {
    "tags": [
     "oneday"
    ]
   },
   "outputs": [
    {
     "data": {
      "text/plain": [
       "100"
      ]
     },
     "execution_count": 360,
     "metadata": {},
     "output_type": "execute_result"
    }
   ],
   "source": [
    "# Lambdas are usually used as 'anonymous functions', but the can be named \n",
    "# just like functions defined with 'def'\n",
    "sqr = lambda x: x**2\n",
    "sqr(10)"
   ]
  },
  {
   "cell_type": "markdown",
   "metadata": {},
   "source": [
    "## Conditionals"
   ]
  },
  {
   "cell_type": "code",
   "execution_count": 361,
   "metadata": {},
   "outputs": [
    {
     "data": {
      "text/plain": [
       "True"
      ]
     },
     "execution_count": 361,
     "metadata": {},
     "output_type": "execute_result"
    }
   ],
   "source": [
    "a = 10\n",
    "b = 0\n",
    "a > 1"
   ]
  },
  {
   "cell_type": "code",
   "execution_count": 362,
   "metadata": {},
   "outputs": [
    {
     "name": "stdout",
     "output_type": "stream",
     "text": [
      "a is greater than one\n"
     ]
    }
   ],
   "source": [
    "if a > 1:\n",
    "    print(\"a is greater than one\")"
   ]
  },
  {
   "cell_type": "code",
   "execution_count": 363,
   "metadata": {},
   "outputs": [
    {
     "name": "stdout",
     "output_type": "stream",
     "text": [
      "Bird is the word.\n",
      "The word is not girt.\n"
     ]
    }
   ],
   "source": [
    "word = 'Bird'\n",
    "\n",
    "# Note: Double equals for a conditional vs single equals for assignment !\n",
    "if word == 'Bird':\n",
    "    print('Bird is the word.')\n",
    "    \n",
    "if word != 'Girt':\n",
    "    print('The word is not girt.')"
   ]
  },
  {
   "cell_type": "code",
   "execution_count": 364,
   "metadata": {},
   "outputs": [
    {
     "name": "stdout",
     "output_type": "stream",
     "text": [
      "'ird' is in Bird.\n",
      "'i' is in letters.\n"
     ]
    }
   ],
   "source": [
    "if 'ird' in word:\n",
    "    print(\"'ird' is in Bird.\")\n",
    "    \n",
    "letters = ['B', 'i', 'r', 'd']\n",
    "if 'i' in letters:\n",
    "    print(\"'i' is in letters.\")"
   ]
  },
  {
   "cell_type": "markdown",
   "metadata": {},
   "source": [
    "*Protip*: Long lines can be split across two or more using a backslash ('\\')\n",
    "\n",
    "This can make your code more readable.\n",
    "\n",
    "There should be nothing after the backslash, including whitespace.\n",
    "\n",
    "Try to keep lines shorter than 78 characters for a PEP-8 style bonus."
   ]
  },
  {
   "cell_type": "code",
   "execution_count": 365,
   "metadata": {},
   "outputs": [
    {
     "name": "stdout",
     "output_type": "stream",
     "text": [
      "There is no 'I' in team (or TEAM).\n"
     ]
    }
   ],
   "source": [
    "if 'I' not in 'team' or \\\n",
    "   'I' not in 'TEAM':\n",
    "    print(\"There is no 'I' in team (or TEAM).\")"
   ]
  },
  {
   "cell_type": "code",
   "execution_count": 366,
   "metadata": {},
   "outputs": [
    {
     "data": {
      "text/plain": [
       "True"
      ]
     },
     "execution_count": 366,
     "metadata": {},
     "output_type": "execute_result"
    }
   ],
   "source": [
    "# Boolean logic\n",
    "# True and True => True\n",
    "a > 1 and b <= 0"
   ]
  },
  {
   "cell_type": "code",
   "execution_count": 367,
   "metadata": {},
   "outputs": [
    {
     "data": {
      "text/plain": [
       "True"
      ]
     },
     "execution_count": 367,
     "metadata": {},
     "output_type": "execute_result"
    }
   ],
   "source": [
    "# True or False => True\n",
    "a > 1 or b > 1"
   ]
  },
  {
   "cell_type": "code",
   "execution_count": 368,
   "metadata": {},
   "outputs": [
    {
     "name": "stdout",
     "output_type": "stream",
     "text": [
      "a is less than fifty\n"
     ]
    }
   ],
   "source": [
    "if a > 100:\n",
    "    print(\"a is greater than one hundred\")\n",
    "elif a > 50:\n",
    "    print(\"a is greater than fifty but less than one hundred\")\n",
    "else:\n",
    "    print(\"a is less than fifty\")\n",
    "    \n",
    "# For better or worse, there is no case/switch statement in Python - you just use if/elif/elif/else"
   ]
  },
  {
   "cell_type": "code",
   "execution_count": 369,
   "metadata": {},
   "outputs": [
    {
     "name": "stdout",
     "output_type": "stream",
     "text": [
      "A non-zero int is truthy\n",
      "The int 0 is 'falsey' ... not False => True !\n",
      "A non-empty string, even whitespace, is 'truthy\n"
     ]
    }
   ],
   "source": [
    "# Truthyness\n",
    "if a:\n",
    "    print(\"A non-zero int is truthy\")\n",
    "\n",
    "if not (a - 10):\n",
    "    print(\"The int 0 is 'falsey' ... not False => True !\")\n",
    "\n",
    "if '' or [] or () or dict():\n",
    "    print(\"We will never see this since an empty string, list, tuple and dict are all 'falsey'\")\n",
    "    \n",
    "if \"    \":\n",
    "    print(\"A non-empty string, even whitespace, is 'truthy\")"
   ]
  },
  {
   "cell_type": "markdown",
   "metadata": {},
   "source": [
    "## Loops"
   ]
  },
  {
   "cell_type": "code",
   "execution_count": 370,
   "metadata": {
    "tags": [
     "hide"
    ]
   },
   "outputs": [],
   "source": [
    "def line():\n",
    "    print('-'*78)"
   ]
  },
  {
   "cell_type": "markdown",
   "metadata": {},
   "source": [
    "A `for` loop works on a sequence types, generators and iterators\n",
    "\n",
    "(this includes lists, tuples, strings and dictionaries)"
   ]
  },
  {
   "cell_type": "code",
   "execution_count": 371,
   "metadata": {},
   "outputs": [
    {
     "name": "stdout",
     "output_type": "stream",
     "text": [
      "A\n",
      "B\n",
      "C\n",
      "D\n",
      ".\n",
      ".\n",
      "m\n",
      "e\n",
      "h\n"
     ]
    }
   ],
   "source": [
    "for letter in \"ABCD..meh\":\n",
    "    print(letter)"
   ]
  },
  {
   "cell_type": "code",
   "execution_count": 372,
   "metadata": {},
   "outputs": [
    {
     "name": "stdout",
     "output_type": "stream",
     "text": [
      "('Z', 99)\n",
      "('Y', 98)\n",
      "('X', 97)\n",
      "Z 99\n",
      "Y 98\n",
      "X 97\n"
     ]
    }
   ],
   "source": [
    "ts = [('Z', 99), ('Y', 98), ('X', 97)]\n",
    "\n",
    "for t in ts:\n",
    "    print(t)\n",
    "    \n",
    "# using tuple unpacking\n",
    "for m, n in ts:\n",
    "    print(m, n)"
   ]
  },
  {
   "cell_type": "code",
   "execution_count": 373,
   "metadata": {},
   "outputs": [
    {
     "name": "stdout",
     "output_type": "stream",
     "text": [
      "('C', 3)\n",
      "('A', 1)\n",
      "('B', 2)\n"
     ]
    }
   ],
   "source": [
    "# for on dictionary.items()\n",
    "d = {'A': 1, 'B': 2, 'C': 3}\n",
    "\n",
    "for item in d.items():\n",
    "    # print(type(item))\n",
    "    print(item)"
   ]
  },
  {
   "cell_type": "code",
   "execution_count": 374,
   "metadata": {},
   "outputs": [
    {
     "name": "stdout",
     "output_type": "stream",
     "text": [
      "C 3\n",
      "A 1\n",
      "B 2\n"
     ]
    }
   ],
   "source": [
    "for k, v in d.items():\n",
    "    print(k, v)"
   ]
  },
  {
   "cell_type": "markdown",
   "metadata": {},
   "source": [
    "`while` loops keep looping while their condition is true:\n",
    "\n",
    "```\n",
    "while some_condition:\n",
    "    do_stuff()\n",
    "```\n",
    "\n",
    "Note: If the condition for your `while` loops never becomes `False`, the loop will run forever (in Jupyter you can do *Kernel -> Interrupt* to break out of the infinite loop)."
   ]
  },
  {
   "cell_type": "code",
   "execution_count": 375,
   "metadata": {},
   "outputs": [
    {
     "name": "stdout",
     "output_type": "stream",
     "text": [
      "0 1 2 3 4 5 6 7 8 9 10 11 12 13 14 15 "
     ]
    }
   ],
   "source": [
    "a = 0\n",
    "while a < 16:\n",
    "    print(a, end=' ')\n",
    "    a += 1"
   ]
  },
  {
   "cell_type": "markdown",
   "metadata": {},
   "source": [
    "`break` immediately exits a loop\n",
    "\n",
    "`continue` immediately starts the next iteration of the loop\n",
    "\n",
    "Any code inside the loop after a `break` or `continue` is skipped."
   ]
  },
  {
   "cell_type": "code",
   "execution_count": 376,
   "metadata": {},
   "outputs": [
    {
     "name": "stdout",
     "output_type": "stream",
     "text": [
      "2 4 6 8 10 12 14 16 "
     ]
    }
   ],
   "source": [
    "a = 0\n",
    "while True:\n",
    "    a += 1\n",
    "    \n",
    "    if a > 16:\n",
    "        break\n",
    "        print('We will never see this.')\n",
    "    \n",
    "    if a % 2:\n",
    "        continue\n",
    "        print('We will also never see this.')\n",
    "        \n",
    "    print(a, end=' ')"
   ]
  },
  {
   "cell_type": "code",
   "execution_count": null,
   "metadata": {},
   "outputs": [],
   "source": []
  },
  {
   "cell_type": "markdown",
   "metadata": {},
   "source": [
    "### List comprehensions\n",
    "\n",
    "List comprehensions are a shorthand way to loop over a list, modify the items and create a new list."
   ]
  },
  {
   "cell_type": "code",
   "execution_count": 377,
   "metadata": {},
   "outputs": [
    {
     "data": {
      "text/plain": [
       "[0, 1, 4, 9, 16, 25, 36, 49, 64, 81, 100]"
      ]
     },
     "execution_count": 377,
     "metadata": {},
     "output_type": "execute_result"
    }
   ],
   "source": [
    "# Instead of doing\n",
    "new_list = []\n",
    "for i in range(0,11):\n",
    "    new_list.append(i**2)\n",
    "\n",
    "new_list"
   ]
  },
  {
   "cell_type": "code",
   "execution_count": 378,
   "metadata": {},
   "outputs": [
    {
     "data": {
      "text/plain": [
       "[0, 1, 4, 9, 16, 25, 36, 49, 64, 81, 100]"
      ]
     },
     "execution_count": 378,
     "metadata": {},
     "output_type": "execute_result"
    }
   ],
   "source": [
    "# Use a list comprehension instead\n",
    "new_list = [i**2 for i in range(0,11)]\n",
    "new_list"
   ]
  },
  {
   "cell_type": "code",
   "execution_count": 379,
   "metadata": {},
   "outputs": [
    {
     "data": {
      "text/plain": [
       "[0, 1, 4, 9]"
      ]
     },
     "execution_count": 379,
     "metadata": {},
     "output_type": "execute_result"
    }
   ],
   "source": [
    "# You can also `filter` values using an if statement inside the list comprehension\n",
    "new_list = [i**2 for i in range(0,11) if i < 4]\n",
    "new_list"
   ]
  },
  {
   "cell_type": "markdown",
   "metadata": {
    "tags": [
     "biosummer"
    ]
   },
   "source": [
    "***End part 1. Stand up and strech for a moment.***"
   ]
  },
  {
   "cell_type": "code",
   "execution_count": 380,
   "metadata": {
    "tags": [
     "oneday"
    ]
   },
   "outputs": [
    {
     "data": {
      "text/plain": [
       "-3"
      ]
     },
     "execution_count": 380,
     "metadata": {},
     "output_type": "execute_result"
    }
   ],
   "source": [
    "# No detail, except to show:\n",
    "#     attributes, instance and class variables , private __underscore naming\n",
    "#     methods\n",
    "#     __init__ constructor (including best practise on mutable args)\n",
    "# Don't cover:\n",
    "#     Inheritance, super\n",
    "#     Mixins / multiple inheritance\n",
    "\n",
    "class ProteinSequence:\n",
    "    \"\"\"A class representing a peptide or protein sequence.\"\"\"\n",
    "    \n",
    "    # These are 'class variables', the value is shared by every instance of the class\n",
    "    pos_aa = ['R', 'K', 'H']\n",
    "    neg_aa = ['D', 'E']\n",
    "    \n",
    "    def __init__(self, seq):\n",
    "        # This defines an 'instance variable' with a value unique to the instance\n",
    "        self.seq = seq\n",
    "        self.__private_number = 42\n",
    "\n",
    "    def bogus_charge(self):\n",
    "        \"\"\"\n",
    "        Calculates the overall charge of the peptide, assuming full protonation of \n",
    "        basic residues and full deprotonation of acidic residues.\n",
    "        \n",
    "        Returns an integer value.\n",
    "        \"\"\"\n",
    "        pos_charge = sum([self.seq.count(aa) for aa in self.pos_aa])\n",
    "        neg_charge = sum([self.seq.count(aa) for aa in self.neg_aa])\n",
    "        return pos_charge - neg_charge\n",
    "    \n",
    "    def get_number(self):\n",
    "        return self.__private_number\n",
    "\n",
    "s = ProteinSequence('MKNVLREDEDD')\n",
    "s.bogus_charge()"
   ]
  },
  {
   "cell_type": "code",
   "execution_count": 381,
   "metadata": {
    "tags": [
     "oneday"
    ]
   },
   "outputs": [
    {
     "data": {
      "text/plain": [
       "'MKNVLREDEDD'"
      ]
     },
     "execution_count": 381,
     "metadata": {},
     "output_type": "execute_result"
    }
   ],
   "source": [
    "# Creating a new instance doesn't effect the original instance 's' \n",
    "# (eg, seq is an instance variable, not a class variable)\n",
    "t = ProteinSequence('EEEEEEEEEEEE')\n",
    "s.seq"
   ]
  },
  {
   "cell_type": "code",
   "execution_count": 382,
   "metadata": {
    "tags": [
     "oneday"
    ]
   },
   "outputs": [
    {
     "name": "stdout",
     "output_type": "stream",
     "text": [
      "MKNVLRERKKR 5\n"
     ]
    }
   ],
   "source": [
    "# Instance variables are public by default - you can just reassign them\n",
    "s.seq = 'MKNVLRERKKR'\n",
    "print(s.seq, s.bogus_charge())"
   ]
  },
  {
   "cell_type": "code",
   "execution_count": 383,
   "metadata": {
    "tags": [
     "oneday"
    ]
   },
   "outputs": [
    {
     "name": "stdout",
     "output_type": "stream",
     "text": [
      "['H'] ['H']\n"
     ]
    }
   ],
   "source": [
    "# Modifications to class variables are reflected for every instance (you'd rarely do this)\n",
    "ProteinSequence.pos_aa = ['H']\n",
    "print(t.pos_aa, s.pos_aa)"
   ]
  },
  {
   "cell_type": "code",
   "execution_count": 384,
   "metadata": {
    "tags": [
     "oneday"
    ]
   },
   "outputs": [
    {
     "name": "stdout",
     "output_type": "stream",
     "text": [
      "['X'] ['H']\n"
     ]
    }
   ],
   "source": [
    "# Reassigning a 'class variable' on an instance turns it into an instance variable\n",
    "t.pos_aa = ['X']\n",
    "print(t.pos_aa, s.pos_aa)"
   ]
  },
  {
   "cell_type": "code",
   "execution_count": 385,
   "metadata": {
    "tags": [
     "oneday"
    ]
   },
   "outputs": [
    {
     "name": "stdout",
     "output_type": "stream",
     "text": [
      "['X'] ['Y']\n"
     ]
    }
   ],
   "source": [
    "ProteinSequence.pos_aa = ['Y']\n",
    "print(t.pos_aa, s.pos_aa)"
   ]
  },
  {
   "cell_type": "code",
   "execution_count": 386,
   "metadata": {
    "tags": [
     "oneday"
    ]
   },
   "outputs": [
    {
     "ename": "AttributeError",
     "evalue": "'ProteinSequence' object has no attribute '__private_number'",
     "output_type": "error",
     "traceback": [
      "\u001b[0;31m---------------------------------------------------------------------------\u001b[0m",
      "\u001b[0;31mAttributeError\u001b[0m                            Traceback (most recent call last)",
      "\u001b[0;32m<ipython-input-386-c5b652b31d96>\u001b[0m in \u001b[0;36m<module>\u001b[0;34m()\u001b[0m\n\u001b[1;32m      1\u001b[0m \u001b[0;31m# Double underscore variables are 'private' and aren't easily accessible from outside the class\u001b[0m\u001b[0;34m\u001b[0m\u001b[0;34m\u001b[0m\u001b[0m\n\u001b[0;32m----> 2\u001b[0;31m \u001b[0mt\u001b[0m\u001b[0;34m.\u001b[0m\u001b[0m__private_number\u001b[0m\u001b[0;34m\u001b[0m\u001b[0m\n\u001b[0m",
      "\u001b[0;31mAttributeError\u001b[0m: 'ProteinSequence' object has no attribute '__private_number'"
     ]
    }
   ],
   "source": [
    "# Double underscore variables are 'private' and aren't easily accessible from outside the class\n",
    "t.__private_number"
   ]
  },
  {
   "cell_type": "code",
   "execution_count": 387,
   "metadata": {
    "tags": [
     "oneday"
    ]
   },
   "outputs": [
    {
     "data": {
      "text/plain": [
       "42"
      ]
     },
     "execution_count": 387,
     "metadata": {},
     "output_type": "execute_result"
    }
   ],
   "source": [
    "# But are accessible via self inside the namespace of the class\n",
    "t.get_number()"
   ]
  },
  {
   "cell_type": "code",
   "execution_count": 388,
   "metadata": {
    "tags": [
     "oneday"
    ]
   },
   "outputs": [
    {
     "data": {
      "text/plain": [
       "['_ProteinSequence__private_number',\n",
       " '__class__',\n",
       " '__delattr__',\n",
       " '__dict__',\n",
       " '__dir__',\n",
       " '__doc__',\n",
       " '__eq__',\n",
       " '__format__',\n",
       " '__ge__',\n",
       " '__getattribute__',\n",
       " '__gt__',\n",
       " '__hash__',\n",
       " '__init__',\n",
       " '__le__',\n",
       " '__lt__',\n",
       " '__module__',\n",
       " '__ne__',\n",
       " '__new__',\n",
       " '__reduce__',\n",
       " '__reduce_ex__',\n",
       " '__repr__',\n",
       " '__setattr__',\n",
       " '__sizeof__',\n",
       " '__str__',\n",
       " '__subclasshook__',\n",
       " '__weakref__',\n",
       " 'bogus_charge',\n",
       " 'get_number',\n",
       " 'neg_aa',\n",
       " 'pos_aa',\n",
       " 'seq']"
      ]
     },
     "execution_count": 388,
     "metadata": {},
     "output_type": "execute_result"
    }
   ],
   "source": [
    "# Note how I said 'aren't easily accessible' - here's how Python name-munges private variables\n",
    "dir(t)"
   ]
  },
  {
   "cell_type": "code",
   "execution_count": 389,
   "metadata": {
    "tags": [
     "oneday"
    ]
   },
   "outputs": [
    {
     "data": {
      "text/plain": [
       "42"
      ]
     },
     "execution_count": 389,
     "metadata": {},
     "output_type": "execute_result"
    }
   ],
   "source": [
    "t._ProteinSequence__private_number"
   ]
  },
  {
   "cell_type": "markdown",
   "metadata": {
    "tags": [
     "oneday"
    ]
   },
   "source": [
    "## Variables are names references to a value\n",
    "For more, see: https://nedbatchelder.com/text/names.html"
   ]
  },
  {
   "cell_type": "code",
   "execution_count": 390,
   "metadata": {
    "tags": [
     "oneday"
    ]
   },
   "outputs": [
    {
     "data": {
      "text/plain": [
       "1"
      ]
     },
     "execution_count": 390,
     "metadata": {},
     "output_type": "execute_result"
    }
   ],
   "source": [
    "# Variables are names referencing values, like tags that can be moved around\n",
    "a = 1\n",
    "b = 2\n",
    "b = a\n",
    "a = 3\n",
    "# 'b' still references '1'\n",
    "b"
   ]
  },
  {
   "cell_type": "code",
   "execution_count": 391,
   "metadata": {
    "tags": [
     "oneday"
    ]
   },
   "outputs": [
    {
     "name": "stdout",
     "output_type": "stream",
     "text": [
      "a: [1, 2, 3]\n",
      "b: [1, 2, 3]\n",
      "c: [1, 2, 3]\n"
     ]
    }
   ],
   "source": [
    "# Each slot in a list is a reference to a value\n",
    "# Assigning a additional name to a list doesn't copy the list - so two names can point to a single 'shared' list\n",
    "\n",
    "a = [1, 2, 3]\n",
    "b = [4, 5, 6]\n",
    "# The names 'b' and 'c' can be reassigned to both point to the same list as 'a'\n",
    "b = a\n",
    "c = a\n",
    "print(\"a: %s\\nb: %s\\nc: %s\" % (a, b, c))"
   ]
  },
  {
   "cell_type": "code",
   "execution_count": 392,
   "metadata": {
    "tags": [
     "oneday"
    ]
   },
   "outputs": [
    {
     "name": "stdout",
     "output_type": "stream",
     "text": [
      "a: [7, 8, 9]\n",
      "b: [1, 2, 3]\n",
      "c: [1, 2, 3]\n"
     ]
    }
   ],
   "source": [
    "# We can reassign the list that 'a' references - with won't change the list that 'b' and 'c' reference\n",
    "a = [7, 8, 9]\n",
    "print(\"a: %s\\nb: %s\\nc: %s\" % (a, b, c))"
   ]
  },
  {
   "cell_type": "code",
   "execution_count": 393,
   "metadata": {
    "tags": [
     "oneday"
    ]
   },
   "outputs": [
    {
     "name": "stdout",
     "output_type": "stream",
     "text": [
      "[1000, 2, 3]\n"
     ]
    }
   ],
   "source": [
    "# Since 'b' and 'c' point to the same list, if we modify an element via the 'c' variable name,\n",
    "# this change is reflected in 'b' - after all, they reference the same list.\n",
    "c[0] = 1000\n",
    "print(b)"
   ]
  },
  {
   "cell_type": "code",
   "execution_count": 394,
   "metadata": {
    "tags": [
     "oneday"
    ]
   },
   "outputs": [
    {
     "data": {
      "text/plain": [
       "[1000, [7, 8, 9], 3]"
      ]
     },
     "execution_count": 394,
     "metadata": {},
     "output_type": "execute_result"
    }
   ],
   "source": [
    "# If we assign a list element to another list, that element (c[1]) references the list 'a' (not a copy of 'a' !)\n",
    "c[1] = a\n",
    "c"
   ]
  },
  {
   "cell_type": "code",
   "execution_count": 395,
   "metadata": {
    "tags": [
     "oneday"
    ]
   },
   "outputs": [
    {
     "data": {
      "text/plain": [
       "[1000, [2000, 8, 9], 3]"
      ]
     },
     "execution_count": 395,
     "metadata": {},
     "output_type": "execute_result"
    }
   ],
   "source": [
    "# So changing 'a' is reflected in nested list that 'c' references\n",
    "a[0] = 2000\n",
    "c"
   ]
  },
  {
   "cell_type": "code",
   "execution_count": 396,
   "metadata": {
    "tags": [
     "oneday"
    ]
   },
   "outputs": [
    {
     "data": {
      "text/plain": [
       "{'first': {1: 2, 2: 4, 4: 8, 8: 16},\n",
       " 'second': {'Apple': 1, 'Orange': 16, 'Pear': 4}}"
      ]
     },
     "execution_count": 396,
     "metadata": {},
     "output_type": "execute_result"
    }
   ],
   "source": [
    "# The same principle applies to dictionaries\n",
    "dict_of_dicts['second'] = pairs\n",
    "dict_of_dicts"
   ]
  },
  {
   "cell_type": "code",
   "execution_count": 397,
   "metadata": {
    "tags": [
     "oneday"
    ]
   },
   "outputs": [
    {
     "data": {
      "text/plain": [
       "{'first': {1: 2, 2: 4, 4: 8, 8: 16},\n",
       " 'second': {'Apple': 1, 'Orange': 16, 'Pear': 4, 'Plum': 64}}"
      ]
     },
     "execution_count": 397,
     "metadata": {},
     "output_type": "execute_result"
    }
   ],
   "source": [
    "# If we add a key/value pair to 'pairs', \n",
    "# we can see the change via dicts_of_dicts since the 'second' key references the same dict as 'pairs'\n",
    "pairs['Plum'] = 64\n",
    "dict_of_dicts"
   ]
  },
  {
   "cell_type": "markdown",
   "metadata": {},
   "source": [
    "### Pass by references / pass by value ... argh ...."
   ]
  },
  {
   "cell_type": "code",
   "execution_count": 398,
   "metadata": {
    "tags": [
     "oneday"
    ]
   },
   "outputs": [],
   "source": [
    "def f(x):\n",
    "    x = 3.142"
   ]
  },
  {
   "cell_type": "code",
   "execution_count": 399,
   "metadata": {
    "tags": [
     "oneday"
    ]
   },
   "outputs": [
    {
     "data": {
      "text/plain": [
       "1"
      ]
     },
     "execution_count": 399,
     "metadata": {},
     "output_type": "execute_result"
    }
   ],
   "source": [
    "# Local variables inside functions of simple numeric types are in effect a 'copy'\n",
    "z = 1\n",
    "f(z)\n",
    "z\n",
    "\n",
    "# z doesn't get changed from being passed into a function, only the 'copy' of the value assigned to x\n",
    "# inside the function gets changed"
   ]
  },
  {
   "cell_type": "code",
   "execution_count": 400,
   "metadata": {
    "tags": [
     "oneday"
    ]
   },
   "outputs": [
    {
     "data": {
      "text/plain": [
       "[1, 2, 3]"
      ]
     },
     "execution_count": 400,
     "metadata": {},
     "output_type": "execute_result"
    }
   ],
   "source": [
    "def g(a_list):\n",
    "    a_list = [6, 7, 8]\n",
    "    \n",
    "z = [1, 2, 3]\n",
    "g(z)\n",
    "z\n",
    "\n",
    "# If a local variable inside a function is completed reassigned, the original\n",
    "# data passed in ('z') is left unchanged."
   ]
  },
  {
   "cell_type": "code",
   "execution_count": 401,
   "metadata": {
    "tags": [
     "oneday"
    ]
   },
   "outputs": [
    {
     "data": {
      "text/plain": [
       "[999, 2, 3]"
      ]
     },
     "execution_count": 401,
     "metadata": {},
     "output_type": "execute_result"
    }
   ],
   "source": [
    "def mutator(a_list):\n",
    "    a_list[0] = 999\n",
    "    \n",
    "z = [1, 2, 3]\n",
    "mutator(z)\n",
    "z\n",
    "\n",
    "# However, if we don't completely reassign `a_list` but modify it's elements, `z` is mutated since each slot\n",
    "# in the list is a reference to the same underlying data.\n",
    "\n",
    "# This can be confusing. We need the 'labels on data' diagram to make it clearer."
   ]
  },
  {
   "cell_type": "markdown",
   "metadata": {
    "tags": [
     "hide"
    ]
   },
   "source": [
    "## Neat features"
   ]
  },
  {
   "cell_type": "code",
   "execution_count": 402,
   "metadata": {
    "tags": [
     "hide"
    ]
   },
   "outputs": [],
   "source": [
    "# Context managers: 'with'\n",
    "# Iterators / Generators\n",
    "# Decorators"
   ]
  },
  {
   "cell_type": "code",
   "execution_count": null,
   "metadata": {},
   "outputs": [],
   "source": []
  }
 ],
 "metadata": {
  "celltoolbar": "Tags",
  "kernelspec": {
   "display_name": "Python 3",
   "language": "python",
   "name": "python3"
  },
  "language_info": {
   "codemirror_mode": {
    "name": "ipython",
    "version": 3
   },
   "file_extension": ".py",
   "mimetype": "text/x-python",
   "name": "python",
   "nbconvert_exporter": "python",
   "pygments_lexer": "ipython3",
   "version": "3.5.2"
  }
 },
 "nbformat": 4,
 "nbformat_minor": 2
}
