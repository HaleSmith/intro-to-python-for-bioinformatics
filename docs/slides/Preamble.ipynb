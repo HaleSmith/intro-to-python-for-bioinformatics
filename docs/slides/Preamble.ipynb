{
 "cells": [
  {
   "cell_type": "markdown",
   "metadata": {},
   "source": [
    "<center>\n",
    "<h1>Introduction to Python (with a bioinformatics flavour)</h1>\n",
    "</center>\n",
    "\n",
    "<hr>\n",
    "\n",
    "<center>\n",
    "Andrew Perry<br>\n",
    "\n",
    "Andrew.Perry@monash.edu<br>\n",
    "\n",
    "Monash Bioinformatics Platform<br>\n",
    "</center>"
   ]
  },
  {
   "cell_type": "markdown",
   "metadata": {
    "slideshow": {
     "slide_type": "slide"
    }
   },
   "source": [
    "# Python: some background\n",
    "<br>\n",
    "\n",
    "![Python Logo](images/python-logo.svg)\n",
    "\n",
    "### ***A widely used general-purpose, high-level programming language. It's design philosophy emphasizes code readability.***\n",
    "\n",
    "### Popular for data analysis and web applications.\n",
    "\n",
    "### Dynamically typed (optional type annotations)\n"
   ]
  },
  {
   "cell_type": "markdown",
   "metadata": {
    "slideshow": {
     "slide_type": "slide"
    }
   },
   "source": [
    "### Originally developed by Guido van Rossum (now works at ~~Google~~ Dropbox)\n",
    "![Guido van Rossum](https://upload.wikimedia.org/wikipedia/commons/thumb/6/66/Guido_van_Rossum_OSCON_2006.jpg/400px-Guido_van_Rossum_OSCON_2006.jpg)"
   ]
  },
  {
   "cell_type": "code",
   "execution_count": null,
   "metadata": {
    "slideshow": {
     "slide_type": "slide"
    }
   },
   "outputs": [],
   "source": [
    "# What does Python code look like ? (this is a comment)\n",
    "\n",
    "import glob\n",
    "\n",
    "txt_files = glob.glob('*.txt')\n",
    "for file_name in sorted(txt_files):\n",
    "    print('## Contents of: ' + file_name)\n",
    "    with open(file_name) as f:\n",
    "        for line in f:\n",
    "            print(line.rstrip())\n",
    "    print('## End of file: ' + file_name)\n",
    "print('Finished !')"
   ]
  },
  {
   "cell_type": "markdown",
   "metadata": {
    "slideshow": {
     "slide_type": "slide"
    }
   },
   "source": [
    "<center><h3>Lots of influential companies, organisations and well known tools use Python</h3></center>\n",
    "<br>\n",
    "\n",
    "<center><img src=\"images/dropbox-logo.png\"></center>"
   ]
  },
  {
   "cell_type": "markdown",
   "metadata": {
    "slideshow": {
     "slide_type": "slide"
    }
   },
   "source": [
    "<center><img src=\"https://upload.wikimedia.org/wikipedia/commons/thumb/e/e1/Logo_of_YouTube_%282015-2017%29.svg/320px-Logo_of_YouTube_%282015-2017%29.svg.png\"></center>"
   ]
  },
  {
   "cell_type": "markdown",
   "metadata": {
    "slideshow": {
     "slide_type": "slide"
    }
   },
   "source": [
    "<center><img src=\"images/reddit-logo.jpg\"></center>"
   ]
  },
  {
   "cell_type": "markdown",
   "metadata": {
    "slideshow": {
     "slide_type": "slide"
    }
   },
   "source": [
    "<center><img src=\"https://upload.wikimedia.org/wikipedia/commons/thumb/e/e7/Instagram_logo_2016.svg/240px-Instagram_logo_2016.svg.png\"></center>"
   ]
  },
  {
   "cell_type": "markdown",
   "metadata": {
    "slideshow": {
     "slide_type": "slide"
    }
   },
   "source": [
    "<center><img src=\"https://upload.wikimedia.org/wikipedia/commons/thumb/2/25/Seal_of_the_Central_Intelligence_Agency.svg/240px-Seal_of_the_Central_Intelligence_Agency.svg.png\"></center>"
   ]
  },
  {
   "cell_type": "markdown",
   "metadata": {
    "slideshow": {
     "slide_type": "slide"
    }
   },
   "source": [
    "<center><img src=\"images/galaxy-logo.png\"></center>"
   ]
  },
  {
   "cell_type": "markdown",
   "metadata": {
    "slideshow": {
     "slide_type": "slide"
    }
   },
   "source": [
    "<center><img src=\"images/qiime2.svg\"></center>"
   ]
  },
  {
   "cell_type": "markdown",
   "metadata": {
    "slideshow": {
     "slide_type": "slide"
    }
   },
   "source": [
    "<center><img src=\"images/MultiQC_logo.png\" width=\"500px\"></center>"
   ]
  },
  {
   "cell_type": "markdown",
   "metadata": {
    "slideshow": {
     "slide_type": "slide"
    }
   },
   "source": [
    "<br>\n",
    "<br>\n",
    "<center><span style=\"font-size: 128px\"><a href=\"https://github.com/infphilo/tophat/blob/master/src/tophat.py\">TopHat</a></span></center>"
   ]
  },
  {
   "cell_type": "markdown",
   "metadata": {
    "slideshow": {
     "slide_type": "slide"
    }
   },
   "source": [
    "<center><img src=\"images/pymol-logo.jpg\"></center>"
   ]
  },
  {
   "cell_type": "markdown",
   "metadata": {
    "slideshow": {
     "slide_type": "slide"
    }
   },
   "source": [
    "<center><img src=\"images/civ-iv.jpg\"></center>"
   ]
  },
  {
   "cell_type": "markdown",
   "metadata": {
    "slideshow": {
     "slide_type": "slide"
    }
   },
   "source": [
    "<center><img src=\"images/battlefield2.jpg\"></center>"
   ]
  },
  {
   "cell_type": "markdown",
   "metadata": {
    "slideshow": {
     "slide_type": "slide"
    }
   },
   "source": [
    "<center><img src=\"images/world-of-tanks-logo.jpg\"></center>"
   ]
  },
  {
   "cell_type": "markdown",
   "metadata": {
    "slideshow": {
     "slide_type": "slide"
    }
   },
   "source": [
    "## Ways to run Python\n",
    "\n",
    "<img src=\"images/1337_h4x0r.jpg\" width=\"200px\">\n",
    "\n",
    "### Commandline interactive\n",
    "\n",
    "```\n",
    "$ python\n",
    ">>> print(\"Hello world !\")\n",
    "Hello world !\n",
    "```\n",
    "\n",
    "*(easiest on Linux or Mac, possible on Windows)*"
   ]
  },
  {
   "cell_type": "markdown",
   "metadata": {
    "slideshow": {
     "slide_type": "slide"
    }
   },
   "source": [
    "### Commandline script\n",
    "\n",
    "```\n",
    "$ python my_script.py\n",
    "Hello world !\n",
    "```\n",
    "\n",
    "### Jupyter notebook\n",
    "\n",
    "Interactive Python, with visualizations, in a web browser.\n",
    "\n",
    "This is what we will do today ... coming right up !"
   ]
  },
  {
   "cell_type": "markdown",
   "metadata": {
    "slideshow": {
     "slide_type": "slide"
    }
   },
   "source": [
    "<center>\n",
    "<h2>How this workshop works</h2>\n",
    "\n",
    "\n",
    "<img src=\"images/223px-Red_flag_waving.svg.png\" width=\"150px\" style=\"display: inline\"><img src=\"images/223px-Green_flag_waving.svg.png\" width=\"150px\" style=\"display: inline\">\n",
    "\n",
    "</center>\n",
    "\n",
    "* Login to Jupyter notebook here (using your email and the password you were sent): http://biotraining.erc.monash.edu:9393/\n",
    "* Follow along in your own Jupyter notebook.\n",
    "* Try to type rather than copy-paste, where practical.\n",
    "* Some parts are quick and easy, other parts will throw you in the deep end. Just roll with it !\n",
    "* Don't be afraid to ask questions !\n",
    "* <span style=\"color: red\">Red flag</span>: You are stuck and need help. One of the helpers will ... help.\n",
    "* <span style=\"color: green\">Green flag</span>: All is good (or you've just completed the latest challenge).\n",
    "* Share you solution to challenges in this shared doc: https://docs.google.com/document/d/1G5B3JTJUFueV9-GR2dulbAxmg9-Y6b1UVipK3-oupOQ/edit.\n",
    "* Feedback survey: <insert_here>. Please help us improve !"
   ]
  }
 ],
 "metadata": {
  "celltoolbar": "Slideshow",
  "kernelspec": {
   "display_name": "Python 3",
   "language": "python",
   "name": "python3"
  },
  "language_info": {
   "codemirror_mode": {
    "name": "ipython",
    "version": 3
   },
   "file_extension": ".py",
   "mimetype": "text/x-python",
   "name": "python",
   "nbconvert_exporter": "python",
   "pygments_lexer": "ipython3",
   "version": "3.5.2"
  }
 },
 "nbformat": 4,
 "nbformat_minor": 2
}
